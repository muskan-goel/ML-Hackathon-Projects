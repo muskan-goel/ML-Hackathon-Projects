{
  "nbformat": 4,
  "nbformat_minor": 0,
  "metadata": {
    "colab": {
      "name": "h1.ipynb",
      "provenance": [],
      "authorship_tag": "ABX9TyPfI+2R4CAxmIsio9fupcX2",
      "include_colab_link": true
    },
    "kernelspec": {
      "name": "python3",
      "display_name": "Python 3"
    },
    "language_info": {
      "name": "python"
    }
  },
  "cells": [
    {
      "cell_type": "markdown",
      "metadata": {
        "id": "view-in-github",
        "colab_type": "text"
      },
      "source": [
        "<a href=\"https://colab.research.google.com/github/muskan-goel/ML-Hackathon-Projects/blob/main/h1.ipynb\" target=\"_parent\"><img src=\"https://colab.research.google.com/assets/colab-badge.svg\" alt=\"Open In Colab\"/></a>"
      ]
    },
    {
      "cell_type": "markdown",
      "metadata": {
        "id": "ipHPkfVUr1lx"
      },
      "source": [
        "**Reading The Data**"
      ]
    },
    {
      "cell_type": "code",
      "metadata": {
        "colab": {
          "base_uri": "https://localhost:8080/"
        },
        "id": "D2KVPuPUsAQi",
        "outputId": "e96a5025-08b1-4d71-a157-cb90cde786e9"
      },
      "source": [
        "import pandas as pd\n",
        "\n",
        "train = pd.read_csv(\"train.csv\")\n",
        "test = pd.read_csv(\"test.csv\")\n",
        "\n",
        "\n",
        "print(\"Train data shape:\", train.shape)\n",
        "print(\"Test data shape:\", test.shape)"
      ],
      "execution_count": 178,
      "outputs": [
        {
          "output_type": "stream",
          "name": "stdout",
          "text": [
            "Train data shape: (6368, 15)\n",
            "Test data shape: (3430, 14)\n"
          ]
        }
      ]
    },
    {
      "cell_type": "code",
      "metadata": {
        "colab": {
          "base_uri": "https://localhost:8080/",
          "height": 326
        },
        "id": "qNCFKgBZ9naG",
        "outputId": "6578f1a0-c399-4c51-978b-5c3198d0cfd9"
      },
      "source": [
        "train.head()"
      ],
      "execution_count": 179,
      "outputs": [
        {
          "output_type": "execute_result",
          "data": {
            "text/html": [
              "<div>\n",
              "<style scoped>\n",
              "    .dataframe tbody tr th:only-of-type {\n",
              "        vertical-align: middle;\n",
              "    }\n",
              "\n",
              "    .dataframe tbody tr th {\n",
              "        vertical-align: top;\n",
              "    }\n",
              "\n",
              "    .dataframe thead th {\n",
              "        text-align: right;\n",
              "    }\n",
              "</style>\n",
              "<table border=\"1\" class=\"dataframe\">\n",
              "  <thead>\n",
              "    <tr style=\"text-align: right;\">\n",
              "      <th></th>\n",
              "      <th>Product_id</th>\n",
              "      <th>Stall_no</th>\n",
              "      <th>instock_date</th>\n",
              "      <th>Market_Category</th>\n",
              "      <th>Customer_name</th>\n",
              "      <th>Loyalty_customer</th>\n",
              "      <th>Product_Category</th>\n",
              "      <th>Grade</th>\n",
              "      <th>Demand</th>\n",
              "      <th>Discount_avail</th>\n",
              "      <th>charges_1</th>\n",
              "      <th>charges_2 (%)</th>\n",
              "      <th>Minimum_price</th>\n",
              "      <th>Maximum_price</th>\n",
              "      <th>Selling_Price</th>\n",
              "    </tr>\n",
              "  </thead>\n",
              "  <tbody>\n",
              "    <tr>\n",
              "      <th>0</th>\n",
              "      <td>BRAE2NF6JA5GUEXG</td>\n",
              "      <td>37.0</td>\n",
              "      <td>2015-08-22 18:36:12.000</td>\n",
              "      <td>2</td>\n",
              "      <td>Lillyann</td>\n",
              "      <td>Yes</td>\n",
              "      <td>Fashion</td>\n",
              "      <td>1</td>\n",
              "      <td>68</td>\n",
              "      <td>0.0</td>\n",
              "      <td>376.0</td>\n",
              "      <td>11.0</td>\n",
              "      <td>2983.0</td>\n",
              "      <td>4713.0</td>\n",
              "      <td>4185.947700</td>\n",
              "    </tr>\n",
              "    <tr>\n",
              "      <th>1</th>\n",
              "      <td>TUNE8SFB6RJN2HSD</td>\n",
              "      <td>38.0</td>\n",
              "      <td>2016-03-27 21:19:13.000</td>\n",
              "      <td>24</td>\n",
              "      <td>Klynn</td>\n",
              "      <td>Yes</td>\n",
              "      <td>Fashion</td>\n",
              "      <td>0</td>\n",
              "      <td>51</td>\n",
              "      <td>0.0</td>\n",
              "      <td>397.0</td>\n",
              "      <td>12.0</td>\n",
              "      <td>7495.0</td>\n",
              "      <td>10352.0</td>\n",
              "      <td>9271.490256</td>\n",
              "    </tr>\n",
              "    <tr>\n",
              "      <th>2</th>\n",
              "      <td>BRAEAR7WZPQGPBZU</td>\n",
              "      <td>9.0</td>\n",
              "      <td>2015-08-18 19:25:22.000</td>\n",
              "      <td>447</td>\n",
              "      <td>Ridge</td>\n",
              "      <td>Yes</td>\n",
              "      <td>Child_care</td>\n",
              "      <td>0</td>\n",
              "      <td>10</td>\n",
              "      <td>0.0</td>\n",
              "      <td>250.0</td>\n",
              "      <td>9.0</td>\n",
              "      <td>5752.0</td>\n",
              "      <td>7309.0</td>\n",
              "      <td>6785.701362</td>\n",
              "    </tr>\n",
              "    <tr>\n",
              "      <th>3</th>\n",
              "      <td>WATDZ2ZQ8JPDHCTJ</td>\n",
              "      <td>50.0</td>\n",
              "      <td>2016-03-28 21:53:01.000</td>\n",
              "      <td>23</td>\n",
              "      <td>Abran</td>\n",
              "      <td>Yes</td>\n",
              "      <td>Educational</td>\n",
              "      <td>2</td>\n",
              "      <td>48</td>\n",
              "      <td>0.0</td>\n",
              "      <td>144.0</td>\n",
              "      <td>13.0</td>\n",
              "      <td>5090.0</td>\n",
              "      <td>20814.0</td>\n",
              "      <td>13028.917824</td>\n",
              "    </tr>\n",
              "    <tr>\n",
              "      <th>4</th>\n",
              "      <td>JWSEBUKYQPMBZ3RK</td>\n",
              "      <td>7.0</td>\n",
              "      <td>2016-03-29 22:58:53.000</td>\n",
              "      <td>63</td>\n",
              "      <td>Dustyn</td>\n",
              "      <td>Yes</td>\n",
              "      <td>Repair</td>\n",
              "      <td>1</td>\n",
              "      <td>35</td>\n",
              "      <td>1.0</td>\n",
              "      <td>211.0</td>\n",
              "      <td>4.0</td>\n",
              "      <td>2430.0</td>\n",
              "      <td>9261.0</td>\n",
              "      <td>906.553935</td>\n",
              "    </tr>\n",
              "  </tbody>\n",
              "</table>\n",
              "</div>"
            ],
            "text/plain": [
              "         Product_id  Stall_no  ... Maximum_price  Selling_Price\n",
              "0  BRAE2NF6JA5GUEXG      37.0  ...        4713.0    4185.947700\n",
              "1  TUNE8SFB6RJN2HSD      38.0  ...       10352.0    9271.490256\n",
              "2  BRAEAR7WZPQGPBZU       9.0  ...        7309.0    6785.701362\n",
              "3  WATDZ2ZQ8JPDHCTJ      50.0  ...       20814.0   13028.917824\n",
              "4  JWSEBUKYQPMBZ3RK       7.0  ...        9261.0     906.553935\n",
              "\n",
              "[5 rows x 15 columns]"
            ]
          },
          "metadata": {},
          "execution_count": 179
        }
      ]
    },
    {
      "cell_type": "code",
      "metadata": {
        "colab": {
          "base_uri": "https://localhost:8080/",
          "height": 326
        },
        "id": "NWgLWn3d9x1g",
        "outputId": "806b3a71-19dd-4a22-81df-b7dcca115256"
      },
      "source": [
        "test.head()"
      ],
      "execution_count": 180,
      "outputs": [
        {
          "output_type": "execute_result",
          "data": {
            "text/html": [
              "<div>\n",
              "<style scoped>\n",
              "    .dataframe tbody tr th:only-of-type {\n",
              "        vertical-align: middle;\n",
              "    }\n",
              "\n",
              "    .dataframe tbody tr th {\n",
              "        vertical-align: top;\n",
              "    }\n",
              "\n",
              "    .dataframe thead th {\n",
              "        text-align: right;\n",
              "    }\n",
              "</style>\n",
              "<table border=\"1\" class=\"dataframe\">\n",
              "  <thead>\n",
              "    <tr style=\"text-align: right;\">\n",
              "      <th></th>\n",
              "      <th>Product_id</th>\n",
              "      <th>Stall_no</th>\n",
              "      <th>instock_date</th>\n",
              "      <th>Market_Category</th>\n",
              "      <th>Customer_name</th>\n",
              "      <th>Loyalty_customer</th>\n",
              "      <th>Product_Category</th>\n",
              "      <th>Grade</th>\n",
              "      <th>Demand</th>\n",
              "      <th>Discount_avail</th>\n",
              "      <th>charges_1</th>\n",
              "      <th>charges_2 (%)</th>\n",
              "      <th>Minimum_price</th>\n",
              "      <th>Maximum_price</th>\n",
              "    </tr>\n",
              "  </thead>\n",
              "  <tbody>\n",
              "    <tr>\n",
              "      <th>0</th>\n",
              "      <td>SCHE4YSTDVPVZVXW</td>\n",
              "      <td>39.0</td>\n",
              "      <td>2016-01-13 07:45:08.000</td>\n",
              "      <td>205</td>\n",
              "      <td>Ivanka</td>\n",
              "      <td>No</td>\n",
              "      <td>Fashion</td>\n",
              "      <td>0</td>\n",
              "      <td>90</td>\n",
              "      <td>0</td>\n",
              "      <td>380.0</td>\n",
              "      <td>16.0</td>\n",
              "      <td>2576.0</td>\n",
              "      <td>3340</td>\n",
              "    </tr>\n",
              "    <tr>\n",
              "      <th>1</th>\n",
              "      <td>ACCEGCATKHNRXUHW</td>\n",
              "      <td>49.0</td>\n",
              "      <td>2015-08-23 20:37:05.000</td>\n",
              "      <td>3</td>\n",
              "      <td>Isaak</td>\n",
              "      <td>Yes</td>\n",
              "      <td>Fashion</td>\n",
              "      <td>0</td>\n",
              "      <td>87</td>\n",
              "      <td>0</td>\n",
              "      <td>393.0</td>\n",
              "      <td>16.0</td>\n",
              "      <td>1202.0</td>\n",
              "      <td>1955</td>\n",
              "    </tr>\n",
              "    <tr>\n",
              "      <th>2</th>\n",
              "      <td>NKCE6GJ5XVJDXNNZ</td>\n",
              "      <td>1.0</td>\n",
              "      <td>2015-11-14 18:12:39.000</td>\n",
              "      <td>183</td>\n",
              "      <td>Analiese</td>\n",
              "      <td>No</td>\n",
              "      <td>Technology</td>\n",
              "      <td>2</td>\n",
              "      <td>55</td>\n",
              "      <td>0</td>\n",
              "      <td>493.0</td>\n",
              "      <td>9.0</td>\n",
              "      <td>7175.0</td>\n",
              "      <td>15715</td>\n",
              "    </tr>\n",
              "    <tr>\n",
              "      <th>3</th>\n",
              "      <td>NKCEB8BK3ZXDHDHM</td>\n",
              "      <td>8.0</td>\n",
              "      <td>2015-11-21 04:56:19.000</td>\n",
              "      <td>358</td>\n",
              "      <td>Rusty</td>\n",
              "      <td>Yes</td>\n",
              "      <td>Child_care</td>\n",
              "      <td>3</td>\n",
              "      <td>86</td>\n",
              "      <td>0</td>\n",
              "      <td>303.0</td>\n",
              "      <td>16.0</td>\n",
              "      <td>5404.0</td>\n",
              "      <td>13078</td>\n",
              "    </tr>\n",
              "    <tr>\n",
              "      <th>4</th>\n",
              "      <td>TOPEFDXSAHRNPF94</td>\n",
              "      <td>33.0</td>\n",
              "      <td>2015-05-06 15:09:46.000</td>\n",
              "      <td>167</td>\n",
              "      <td>Eloise</td>\n",
              "      <td>No</td>\n",
              "      <td>Technology</td>\n",
              "      <td>0</td>\n",
              "      <td>27</td>\n",
              "      <td>0</td>\n",
              "      <td>567.0</td>\n",
              "      <td>16.0</td>\n",
              "      <td>4069.0</td>\n",
              "      <td>6244</td>\n",
              "    </tr>\n",
              "  </tbody>\n",
              "</table>\n",
              "</div>"
            ],
            "text/plain": [
              "         Product_id  Stall_no  ... Minimum_price  Maximum_price\n",
              "0  SCHE4YSTDVPVZVXW      39.0  ...        2576.0           3340\n",
              "1  ACCEGCATKHNRXUHW      49.0  ...        1202.0           1955\n",
              "2  NKCE6GJ5XVJDXNNZ       1.0  ...        7175.0          15715\n",
              "3  NKCEB8BK3ZXDHDHM       8.0  ...        5404.0          13078\n",
              "4  TOPEFDXSAHRNPF94      33.0  ...        4069.0           6244\n",
              "\n",
              "[5 rows x 14 columns]"
            ]
          },
          "metadata": {},
          "execution_count": 180
        }
      ]
    },
    {
      "cell_type": "code",
      "metadata": {
        "id": "r7iHF7iM-Cue"
      },
      "source": [
        "train['instock_date']=pd.to_datetime(train['instock_date'])"
      ],
      "execution_count": 181,
      "outputs": []
    },
    {
      "cell_type": "code",
      "metadata": {
        "id": "MJbLosov-Q-I"
      },
      "source": [
        "def get_year_month(train):\n",
        "    train['instock_year']=train['instock_date'].dt.year\n",
        "    train['instock_month']=train['instock_date'].dt.month\n",
        "    train.drop(columns=['instock_date'],inplace=True)\n",
        "    return train\n",
        "train=get_year_month(train)"
      ],
      "execution_count": 182,
      "outputs": []
    },
    {
      "cell_type": "code",
      "metadata": {
        "colab": {
          "base_uri": "https://localhost:8080/",
          "height": 241
        },
        "id": "OSRm5j8A-nNx",
        "outputId": "88ebab92-5adc-46f1-804b-745e4af80294"
      },
      "source": [
        "train.head()"
      ],
      "execution_count": 183,
      "outputs": [
        {
          "output_type": "execute_result",
          "data": {
            "text/html": [
              "<div>\n",
              "<style scoped>\n",
              "    .dataframe tbody tr th:only-of-type {\n",
              "        vertical-align: middle;\n",
              "    }\n",
              "\n",
              "    .dataframe tbody tr th {\n",
              "        vertical-align: top;\n",
              "    }\n",
              "\n",
              "    .dataframe thead th {\n",
              "        text-align: right;\n",
              "    }\n",
              "</style>\n",
              "<table border=\"1\" class=\"dataframe\">\n",
              "  <thead>\n",
              "    <tr style=\"text-align: right;\">\n",
              "      <th></th>\n",
              "      <th>Product_id</th>\n",
              "      <th>Stall_no</th>\n",
              "      <th>Market_Category</th>\n",
              "      <th>Customer_name</th>\n",
              "      <th>Loyalty_customer</th>\n",
              "      <th>Product_Category</th>\n",
              "      <th>Grade</th>\n",
              "      <th>Demand</th>\n",
              "      <th>Discount_avail</th>\n",
              "      <th>charges_1</th>\n",
              "      <th>charges_2 (%)</th>\n",
              "      <th>Minimum_price</th>\n",
              "      <th>Maximum_price</th>\n",
              "      <th>Selling_Price</th>\n",
              "      <th>instock_year</th>\n",
              "      <th>instock_month</th>\n",
              "    </tr>\n",
              "  </thead>\n",
              "  <tbody>\n",
              "    <tr>\n",
              "      <th>0</th>\n",
              "      <td>BRAE2NF6JA5GUEXG</td>\n",
              "      <td>37.0</td>\n",
              "      <td>2</td>\n",
              "      <td>Lillyann</td>\n",
              "      <td>Yes</td>\n",
              "      <td>Fashion</td>\n",
              "      <td>1</td>\n",
              "      <td>68</td>\n",
              "      <td>0.0</td>\n",
              "      <td>376.0</td>\n",
              "      <td>11.0</td>\n",
              "      <td>2983.0</td>\n",
              "      <td>4713.0</td>\n",
              "      <td>4185.947700</td>\n",
              "      <td>2015</td>\n",
              "      <td>8</td>\n",
              "    </tr>\n",
              "    <tr>\n",
              "      <th>1</th>\n",
              "      <td>TUNE8SFB6RJN2HSD</td>\n",
              "      <td>38.0</td>\n",
              "      <td>24</td>\n",
              "      <td>Klynn</td>\n",
              "      <td>Yes</td>\n",
              "      <td>Fashion</td>\n",
              "      <td>0</td>\n",
              "      <td>51</td>\n",
              "      <td>0.0</td>\n",
              "      <td>397.0</td>\n",
              "      <td>12.0</td>\n",
              "      <td>7495.0</td>\n",
              "      <td>10352.0</td>\n",
              "      <td>9271.490256</td>\n",
              "      <td>2016</td>\n",
              "      <td>3</td>\n",
              "    </tr>\n",
              "    <tr>\n",
              "      <th>2</th>\n",
              "      <td>BRAEAR7WZPQGPBZU</td>\n",
              "      <td>9.0</td>\n",
              "      <td>447</td>\n",
              "      <td>Ridge</td>\n",
              "      <td>Yes</td>\n",
              "      <td>Child_care</td>\n",
              "      <td>0</td>\n",
              "      <td>10</td>\n",
              "      <td>0.0</td>\n",
              "      <td>250.0</td>\n",
              "      <td>9.0</td>\n",
              "      <td>5752.0</td>\n",
              "      <td>7309.0</td>\n",
              "      <td>6785.701362</td>\n",
              "      <td>2015</td>\n",
              "      <td>8</td>\n",
              "    </tr>\n",
              "    <tr>\n",
              "      <th>3</th>\n",
              "      <td>WATDZ2ZQ8JPDHCTJ</td>\n",
              "      <td>50.0</td>\n",
              "      <td>23</td>\n",
              "      <td>Abran</td>\n",
              "      <td>Yes</td>\n",
              "      <td>Educational</td>\n",
              "      <td>2</td>\n",
              "      <td>48</td>\n",
              "      <td>0.0</td>\n",
              "      <td>144.0</td>\n",
              "      <td>13.0</td>\n",
              "      <td>5090.0</td>\n",
              "      <td>20814.0</td>\n",
              "      <td>13028.917824</td>\n",
              "      <td>2016</td>\n",
              "      <td>3</td>\n",
              "    </tr>\n",
              "    <tr>\n",
              "      <th>4</th>\n",
              "      <td>JWSEBUKYQPMBZ3RK</td>\n",
              "      <td>7.0</td>\n",
              "      <td>63</td>\n",
              "      <td>Dustyn</td>\n",
              "      <td>Yes</td>\n",
              "      <td>Repair</td>\n",
              "      <td>1</td>\n",
              "      <td>35</td>\n",
              "      <td>1.0</td>\n",
              "      <td>211.0</td>\n",
              "      <td>4.0</td>\n",
              "      <td>2430.0</td>\n",
              "      <td>9261.0</td>\n",
              "      <td>906.553935</td>\n",
              "      <td>2016</td>\n",
              "      <td>3</td>\n",
              "    </tr>\n",
              "  </tbody>\n",
              "</table>\n",
              "</div>"
            ],
            "text/plain": [
              "         Product_id  Stall_no  ...  instock_year instock_month\n",
              "0  BRAE2NF6JA5GUEXG      37.0  ...          2015             8\n",
              "1  TUNE8SFB6RJN2HSD      38.0  ...          2016             3\n",
              "2  BRAEAR7WZPQGPBZU       9.0  ...          2015             8\n",
              "3  WATDZ2ZQ8JPDHCTJ      50.0  ...          2016             3\n",
              "4  JWSEBUKYQPMBZ3RK       7.0  ...          2016             3\n",
              "\n",
              "[5 rows x 16 columns]"
            ]
          },
          "metadata": {},
          "execution_count": 183
        }
      ]
    },
    {
      "cell_type": "markdown",
      "metadata": {
        "id": "wnocrdy_WeG0"
      },
      "source": [
        "\n",
        "**Some insights of the train data**"
      ]
    },
    {
      "cell_type": "code",
      "metadata": {
        "colab": {
          "base_uri": "https://localhost:8080/"
        },
        "id": "mNKN2o2C-rcD",
        "outputId": "24b1768d-9810-4cba-aec9-92fda21448f4"
      },
      "source": [
        "train.info()"
      ],
      "execution_count": 103,
      "outputs": [
        {
          "output_type": "stream",
          "name": "stdout",
          "text": [
            "<class 'pandas.core.frame.DataFrame'>\n",
            "RangeIndex: 6368 entries, 0 to 6367\n",
            "Data columns (total 16 columns):\n",
            " #   Column            Non-Null Count  Dtype  \n",
            "---  ------            --------------  -----  \n",
            " 0   Product_id        6368 non-null   object \n",
            " 1   Stall_no          6363 non-null   float64\n",
            " 2   Market_Category   6368 non-null   int64  \n",
            " 3   Customer_name     6157 non-null   object \n",
            " 4   Loyalty_customer  6368 non-null   object \n",
            " 5   Product_Category  6368 non-null   object \n",
            " 6   Grade             6368 non-null   int64  \n",
            " 7   Demand            6368 non-null   int64  \n",
            " 8   Discount_avail    6330 non-null   float64\n",
            " 9   charges_1         6170 non-null   float64\n",
            " 10  charges_2 (%)     6163 non-null   float64\n",
            " 11  Minimum_price     6330 non-null   float64\n",
            " 12  Maximum_price     6025 non-null   float64\n",
            " 13  Selling_Price     6327 non-null   float64\n",
            " 14  instock_year      6368 non-null   int64  \n",
            " 15  instock_month     6368 non-null   int64  \n",
            "dtypes: float64(7), int64(5), object(4)\n",
            "memory usage: 796.1+ KB\n"
          ]
        }
      ]
    },
    {
      "cell_type": "code",
      "metadata": {
        "colab": {
          "base_uri": "https://localhost:8080/",
          "height": 334
        },
        "id": "FwvxxQxJW9fH",
        "outputId": "61ae5108-c3ea-4cfe-910a-18da65fc7b93"
      },
      "source": [
        "train.describe()"
      ],
      "execution_count": 104,
      "outputs": [
        {
          "output_type": "execute_result",
          "data": {
            "text/html": [
              "<div>\n",
              "<style scoped>\n",
              "    .dataframe tbody tr th:only-of-type {\n",
              "        vertical-align: middle;\n",
              "    }\n",
              "\n",
              "    .dataframe tbody tr th {\n",
              "        vertical-align: top;\n",
              "    }\n",
              "\n",
              "    .dataframe thead th {\n",
              "        text-align: right;\n",
              "    }\n",
              "</style>\n",
              "<table border=\"1\" class=\"dataframe\">\n",
              "  <thead>\n",
              "    <tr style=\"text-align: right;\">\n",
              "      <th></th>\n",
              "      <th>Stall_no</th>\n",
              "      <th>Market_Category</th>\n",
              "      <th>Grade</th>\n",
              "      <th>Demand</th>\n",
              "      <th>Discount_avail</th>\n",
              "      <th>charges_1</th>\n",
              "      <th>charges_2 (%)</th>\n",
              "      <th>Minimum_price</th>\n",
              "      <th>Maximum_price</th>\n",
              "      <th>Selling_Price</th>\n",
              "      <th>instock_year</th>\n",
              "      <th>instock_month</th>\n",
              "    </tr>\n",
              "  </thead>\n",
              "  <tbody>\n",
              "    <tr>\n",
              "      <th>count</th>\n",
              "      <td>6363.000000</td>\n",
              "      <td>6368.000000</td>\n",
              "      <td>6368.000000</td>\n",
              "      <td>6368.000000</td>\n",
              "      <td>6330.000000</td>\n",
              "      <td>6170.000000</td>\n",
              "      <td>6163.000000</td>\n",
              "      <td>6330.000000</td>\n",
              "      <td>6025.000000</td>\n",
              "      <td>6327.000000</td>\n",
              "      <td>6368.000000</td>\n",
              "      <td>6368.000000</td>\n",
              "    </tr>\n",
              "    <tr>\n",
              "      <th>mean</th>\n",
              "      <td>25.309445</td>\n",
              "      <td>199.340609</td>\n",
              "      <td>0.643687</td>\n",
              "      <td>50.921168</td>\n",
              "      <td>0.140442</td>\n",
              "      <td>264.514100</td>\n",
              "      <td>10.146195</td>\n",
              "      <td>3531.349763</td>\n",
              "      <td>6432.545892</td>\n",
              "      <td>4563.242592</td>\n",
              "      <td>2015.319410</td>\n",
              "      <td>6.409862</td>\n",
              "    </tr>\n",
              "    <tr>\n",
              "      <th>std</th>\n",
              "      <td>14.328980</td>\n",
              "      <td>170.275570</td>\n",
              "      <td>1.025092</td>\n",
              "      <td>29.091922</td>\n",
              "      <td>0.347473</td>\n",
              "      <td>124.483056</td>\n",
              "      <td>4.318339</td>\n",
              "      <td>2194.729604</td>\n",
              "      <td>3716.177364</td>\n",
              "      <td>2979.102408</td>\n",
              "      <td>0.485751</td>\n",
              "      <td>3.326065</td>\n",
              "    </tr>\n",
              "    <tr>\n",
              "      <th>min</th>\n",
              "      <td>1.000000</td>\n",
              "      <td>0.000000</td>\n",
              "      <td>0.000000</td>\n",
              "      <td>1.000000</td>\n",
              "      <td>0.000000</td>\n",
              "      <td>100.000000</td>\n",
              "      <td>1.000000</td>\n",
              "      <td>1.000000</td>\n",
              "      <td>404.000000</td>\n",
              "      <td>-6062.470000</td>\n",
              "      <td>2014.000000</td>\n",
              "      <td>1.000000</td>\n",
              "    </tr>\n",
              "    <tr>\n",
              "      <th>25%</th>\n",
              "      <td>13.000000</td>\n",
              "      <td>55.000000</td>\n",
              "      <td>0.000000</td>\n",
              "      <td>26.000000</td>\n",
              "      <td>0.000000</td>\n",
              "      <td>163.000000</td>\n",
              "      <td>7.000000</td>\n",
              "      <td>1879.250000</td>\n",
              "      <td>3918.000000</td>\n",
              "      <td>2450.005280</td>\n",
              "      <td>2015.000000</td>\n",
              "      <td>3.000000</td>\n",
              "    </tr>\n",
              "    <tr>\n",
              "      <th>50%</th>\n",
              "      <td>25.000000</td>\n",
              "      <td>132.000000</td>\n",
              "      <td>0.000000</td>\n",
              "      <td>51.000000</td>\n",
              "      <td>0.000000</td>\n",
              "      <td>252.000000</td>\n",
              "      <td>10.000000</td>\n",
              "      <td>3157.500000</td>\n",
              "      <td>5634.000000</td>\n",
              "      <td>4210.384640</td>\n",
              "      <td>2015.000000</td>\n",
              "      <td>8.000000</td>\n",
              "    </tr>\n",
              "    <tr>\n",
              "      <th>75%</th>\n",
              "      <td>37.000000</td>\n",
              "      <td>403.000000</td>\n",
              "      <td>2.000000</td>\n",
              "      <td>76.000000</td>\n",
              "      <td>0.000000</td>\n",
              "      <td>314.000000</td>\n",
              "      <td>14.000000</td>\n",
              "      <td>4697.000000</td>\n",
              "      <td>8126.000000</td>\n",
              "      <td>6167.643252</td>\n",
              "      <td>2016.000000</td>\n",
              "      <td>9.000000</td>\n",
              "    </tr>\n",
              "    <tr>\n",
              "      <th>max</th>\n",
              "      <td>50.000000</td>\n",
              "      <td>471.000000</td>\n",
              "      <td>3.000000</td>\n",
              "      <td>100.000000</td>\n",
              "      <td>1.000000</td>\n",
              "      <td>649.000000</td>\n",
              "      <td>17.000000</td>\n",
              "      <td>17580.000000</td>\n",
              "      <td>58812.000000</td>\n",
              "      <td>22638.325941</td>\n",
              "      <td>2016.000000</td>\n",
              "      <td>12.000000</td>\n",
              "    </tr>\n",
              "  </tbody>\n",
              "</table>\n",
              "</div>"
            ],
            "text/plain": [
              "          Stall_no  Market_Category  ...  instock_year  instock_month\n",
              "count  6363.000000      6368.000000  ...   6368.000000    6368.000000\n",
              "mean     25.309445       199.340609  ...   2015.319410       6.409862\n",
              "std      14.328980       170.275570  ...      0.485751       3.326065\n",
              "min       1.000000         0.000000  ...   2014.000000       1.000000\n",
              "25%      13.000000        55.000000  ...   2015.000000       3.000000\n",
              "50%      25.000000       132.000000  ...   2015.000000       8.000000\n",
              "75%      37.000000       403.000000  ...   2016.000000       9.000000\n",
              "max      50.000000       471.000000  ...   2016.000000      12.000000\n",
              "\n",
              "[8 rows x 12 columns]"
            ]
          },
          "metadata": {},
          "execution_count": 104
        }
      ]
    },
    {
      "cell_type": "code",
      "metadata": {
        "colab": {
          "base_uri": "https://localhost:8080/"
        },
        "id": "Tnv3WejyXL1b",
        "outputId": "fd25a12f-b4cb-4aa7-b1a1-d8f6535d337a"
      },
      "source": [
        "sum(train['Selling_Price']<0)"
      ],
      "execution_count": 184,
      "outputs": [
        {
          "output_type": "execute_result",
          "data": {
            "text/plain": [
              "14"
            ]
          },
          "metadata": {},
          "execution_count": 184
        }
      ]
    },
    {
      "cell_type": "code",
      "metadata": {
        "colab": {
          "base_uri": "https://localhost:8080/"
        },
        "id": "6Ybwg0RhXw59",
        "outputId": "d01de9c5-7c8e-401c-99aa-994ea011e13c"
      },
      "source": [
        "train.shape"
      ],
      "execution_count": 106,
      "outputs": [
        {
          "output_type": "execute_result",
          "data": {
            "text/plain": [
              "(6368, 16)"
            ]
          },
          "metadata": {},
          "execution_count": 106
        }
      ]
    },
    {
      "cell_type": "code",
      "metadata": {
        "colab": {
          "base_uri": "https://localhost:8080/"
        },
        "id": "R-FR1oDEX-dX",
        "outputId": "6e9276b0-6bcc-4182-cd8b-0d1fbdea4707"
      },
      "source": [
        "train = train[train.Selling_Price > 0]\n",
        "train.shape"
      ],
      "execution_count": 185,
      "outputs": [
        {
          "output_type": "execute_result",
          "data": {
            "text/plain": [
              "(6313, 16)"
            ]
          },
          "metadata": {},
          "execution_count": 185
        }
      ]
    },
    {
      "cell_type": "markdown",
      "metadata": {
        "id": "QEt9OEx4aZDP"
      },
      "source": [
        "**Label Encoding**"
      ]
    },
    {
      "cell_type": "code",
      "metadata": {
        "id": "zA158O9xaX_u"
      },
      "source": [
        "from sklearn.preprocessing import LabelEncoder\n",
        "\n",
        "le_lc=LabelEncoder()\n",
        "le_pc=LabelEncoder()\n",
        "\n",
        "train['Loyalty_customer']=le_lc.fit_transform(train['Loyalty_customer'])\n",
        "train['Product_Category']=le_pc.fit_transform(train['Product_Category'])"
      ],
      "execution_count": 186,
      "outputs": []
    },
    {
      "cell_type": "code",
      "metadata": {
        "colab": {
          "base_uri": "https://localhost:8080/",
          "height": 241
        },
        "id": "v_cikjG9btAb",
        "outputId": "4bad1095-5edc-4209-bcf2-0050672b2522"
      },
      "source": [
        "train.head()"
      ],
      "execution_count": 187,
      "outputs": [
        {
          "output_type": "execute_result",
          "data": {
            "text/html": [
              "<div>\n",
              "<style scoped>\n",
              "    .dataframe tbody tr th:only-of-type {\n",
              "        vertical-align: middle;\n",
              "    }\n",
              "\n",
              "    .dataframe tbody tr th {\n",
              "        vertical-align: top;\n",
              "    }\n",
              "\n",
              "    .dataframe thead th {\n",
              "        text-align: right;\n",
              "    }\n",
              "</style>\n",
              "<table border=\"1\" class=\"dataframe\">\n",
              "  <thead>\n",
              "    <tr style=\"text-align: right;\">\n",
              "      <th></th>\n",
              "      <th>Product_id</th>\n",
              "      <th>Stall_no</th>\n",
              "      <th>Market_Category</th>\n",
              "      <th>Customer_name</th>\n",
              "      <th>Loyalty_customer</th>\n",
              "      <th>Product_Category</th>\n",
              "      <th>Grade</th>\n",
              "      <th>Demand</th>\n",
              "      <th>Discount_avail</th>\n",
              "      <th>charges_1</th>\n",
              "      <th>charges_2 (%)</th>\n",
              "      <th>Minimum_price</th>\n",
              "      <th>Maximum_price</th>\n",
              "      <th>Selling_Price</th>\n",
              "      <th>instock_year</th>\n",
              "      <th>instock_month</th>\n",
              "    </tr>\n",
              "  </thead>\n",
              "  <tbody>\n",
              "    <tr>\n",
              "      <th>0</th>\n",
              "      <td>BRAE2NF6JA5GUEXG</td>\n",
              "      <td>37.0</td>\n",
              "      <td>2</td>\n",
              "      <td>Lillyann</td>\n",
              "      <td>1</td>\n",
              "      <td>3</td>\n",
              "      <td>1</td>\n",
              "      <td>68</td>\n",
              "      <td>0.0</td>\n",
              "      <td>376.0</td>\n",
              "      <td>11.0</td>\n",
              "      <td>2983.0</td>\n",
              "      <td>4713.0</td>\n",
              "      <td>4185.947700</td>\n",
              "      <td>2015</td>\n",
              "      <td>8</td>\n",
              "    </tr>\n",
              "    <tr>\n",
              "      <th>1</th>\n",
              "      <td>TUNE8SFB6RJN2HSD</td>\n",
              "      <td>38.0</td>\n",
              "      <td>24</td>\n",
              "      <td>Klynn</td>\n",
              "      <td>1</td>\n",
              "      <td>3</td>\n",
              "      <td>0</td>\n",
              "      <td>51</td>\n",
              "      <td>0.0</td>\n",
              "      <td>397.0</td>\n",
              "      <td>12.0</td>\n",
              "      <td>7495.0</td>\n",
              "      <td>10352.0</td>\n",
              "      <td>9271.490256</td>\n",
              "      <td>2016</td>\n",
              "      <td>3</td>\n",
              "    </tr>\n",
              "    <tr>\n",
              "      <th>2</th>\n",
              "      <td>BRAEAR7WZPQGPBZU</td>\n",
              "      <td>9.0</td>\n",
              "      <td>447</td>\n",
              "      <td>Ridge</td>\n",
              "      <td>1</td>\n",
              "      <td>0</td>\n",
              "      <td>0</td>\n",
              "      <td>10</td>\n",
              "      <td>0.0</td>\n",
              "      <td>250.0</td>\n",
              "      <td>9.0</td>\n",
              "      <td>5752.0</td>\n",
              "      <td>7309.0</td>\n",
              "      <td>6785.701362</td>\n",
              "      <td>2015</td>\n",
              "      <td>8</td>\n",
              "    </tr>\n",
              "    <tr>\n",
              "      <th>3</th>\n",
              "      <td>WATDZ2ZQ8JPDHCTJ</td>\n",
              "      <td>50.0</td>\n",
              "      <td>23</td>\n",
              "      <td>Abran</td>\n",
              "      <td>1</td>\n",
              "      <td>2</td>\n",
              "      <td>2</td>\n",
              "      <td>48</td>\n",
              "      <td>0.0</td>\n",
              "      <td>144.0</td>\n",
              "      <td>13.0</td>\n",
              "      <td>5090.0</td>\n",
              "      <td>20814.0</td>\n",
              "      <td>13028.917824</td>\n",
              "      <td>2016</td>\n",
              "      <td>3</td>\n",
              "    </tr>\n",
              "    <tr>\n",
              "      <th>4</th>\n",
              "      <td>JWSEBUKYQPMBZ3RK</td>\n",
              "      <td>7.0</td>\n",
              "      <td>63</td>\n",
              "      <td>Dustyn</td>\n",
              "      <td>1</td>\n",
              "      <td>8</td>\n",
              "      <td>1</td>\n",
              "      <td>35</td>\n",
              "      <td>1.0</td>\n",
              "      <td>211.0</td>\n",
              "      <td>4.0</td>\n",
              "      <td>2430.0</td>\n",
              "      <td>9261.0</td>\n",
              "      <td>906.553935</td>\n",
              "      <td>2016</td>\n",
              "      <td>3</td>\n",
              "    </tr>\n",
              "  </tbody>\n",
              "</table>\n",
              "</div>"
            ],
            "text/plain": [
              "         Product_id  Stall_no  ...  instock_year instock_month\n",
              "0  BRAE2NF6JA5GUEXG      37.0  ...          2015             8\n",
              "1  TUNE8SFB6RJN2HSD      38.0  ...          2016             3\n",
              "2  BRAEAR7WZPQGPBZU       9.0  ...          2015             8\n",
              "3  WATDZ2ZQ8JPDHCTJ      50.0  ...          2016             3\n",
              "4  JWSEBUKYQPMBZ3RK       7.0  ...          2016             3\n",
              "\n",
              "[5 rows x 16 columns]"
            ]
          },
          "metadata": {},
          "execution_count": 187
        }
      ]
    },
    {
      "cell_type": "markdown",
      "metadata": {
        "id": "E5khV-fwsd3Z"
      },
      "source": [
        "*dropping the columns not useful at all*"
      ]
    },
    {
      "cell_type": "code",
      "metadata": {
        "colab": {
          "base_uri": "https://localhost:8080/",
          "height": 241
        },
        "id": "9ZN0cCbJb3km",
        "outputId": "ba11626e-13ee-4bea-bfd6-0109007d9eb0"
      },
      "source": [
        "train.drop(columns=[\"Customer_name\",\"instock_month\",\"instock_year\"],inplace=True)\n",
        "train.head()"
      ],
      "execution_count": 188,
      "outputs": [
        {
          "output_type": "execute_result",
          "data": {
            "text/html": [
              "<div>\n",
              "<style scoped>\n",
              "    .dataframe tbody tr th:only-of-type {\n",
              "        vertical-align: middle;\n",
              "    }\n",
              "\n",
              "    .dataframe tbody tr th {\n",
              "        vertical-align: top;\n",
              "    }\n",
              "\n",
              "    .dataframe thead th {\n",
              "        text-align: right;\n",
              "    }\n",
              "</style>\n",
              "<table border=\"1\" class=\"dataframe\">\n",
              "  <thead>\n",
              "    <tr style=\"text-align: right;\">\n",
              "      <th></th>\n",
              "      <th>Product_id</th>\n",
              "      <th>Stall_no</th>\n",
              "      <th>Market_Category</th>\n",
              "      <th>Loyalty_customer</th>\n",
              "      <th>Product_Category</th>\n",
              "      <th>Grade</th>\n",
              "      <th>Demand</th>\n",
              "      <th>Discount_avail</th>\n",
              "      <th>charges_1</th>\n",
              "      <th>charges_2 (%)</th>\n",
              "      <th>Minimum_price</th>\n",
              "      <th>Maximum_price</th>\n",
              "      <th>Selling_Price</th>\n",
              "    </tr>\n",
              "  </thead>\n",
              "  <tbody>\n",
              "    <tr>\n",
              "      <th>0</th>\n",
              "      <td>BRAE2NF6JA5GUEXG</td>\n",
              "      <td>37.0</td>\n",
              "      <td>2</td>\n",
              "      <td>1</td>\n",
              "      <td>3</td>\n",
              "      <td>1</td>\n",
              "      <td>68</td>\n",
              "      <td>0.0</td>\n",
              "      <td>376.0</td>\n",
              "      <td>11.0</td>\n",
              "      <td>2983.0</td>\n",
              "      <td>4713.0</td>\n",
              "      <td>4185.947700</td>\n",
              "    </tr>\n",
              "    <tr>\n",
              "      <th>1</th>\n",
              "      <td>TUNE8SFB6RJN2HSD</td>\n",
              "      <td>38.0</td>\n",
              "      <td>24</td>\n",
              "      <td>1</td>\n",
              "      <td>3</td>\n",
              "      <td>0</td>\n",
              "      <td>51</td>\n",
              "      <td>0.0</td>\n",
              "      <td>397.0</td>\n",
              "      <td>12.0</td>\n",
              "      <td>7495.0</td>\n",
              "      <td>10352.0</td>\n",
              "      <td>9271.490256</td>\n",
              "    </tr>\n",
              "    <tr>\n",
              "      <th>2</th>\n",
              "      <td>BRAEAR7WZPQGPBZU</td>\n",
              "      <td>9.0</td>\n",
              "      <td>447</td>\n",
              "      <td>1</td>\n",
              "      <td>0</td>\n",
              "      <td>0</td>\n",
              "      <td>10</td>\n",
              "      <td>0.0</td>\n",
              "      <td>250.0</td>\n",
              "      <td>9.0</td>\n",
              "      <td>5752.0</td>\n",
              "      <td>7309.0</td>\n",
              "      <td>6785.701362</td>\n",
              "    </tr>\n",
              "    <tr>\n",
              "      <th>3</th>\n",
              "      <td>WATDZ2ZQ8JPDHCTJ</td>\n",
              "      <td>50.0</td>\n",
              "      <td>23</td>\n",
              "      <td>1</td>\n",
              "      <td>2</td>\n",
              "      <td>2</td>\n",
              "      <td>48</td>\n",
              "      <td>0.0</td>\n",
              "      <td>144.0</td>\n",
              "      <td>13.0</td>\n",
              "      <td>5090.0</td>\n",
              "      <td>20814.0</td>\n",
              "      <td>13028.917824</td>\n",
              "    </tr>\n",
              "    <tr>\n",
              "      <th>4</th>\n",
              "      <td>JWSEBUKYQPMBZ3RK</td>\n",
              "      <td>7.0</td>\n",
              "      <td>63</td>\n",
              "      <td>1</td>\n",
              "      <td>8</td>\n",
              "      <td>1</td>\n",
              "      <td>35</td>\n",
              "      <td>1.0</td>\n",
              "      <td>211.0</td>\n",
              "      <td>4.0</td>\n",
              "      <td>2430.0</td>\n",
              "      <td>9261.0</td>\n",
              "      <td>906.553935</td>\n",
              "    </tr>\n",
              "  </tbody>\n",
              "</table>\n",
              "</div>"
            ],
            "text/plain": [
              "         Product_id  Stall_no  ...  Maximum_price  Selling_Price\n",
              "0  BRAE2NF6JA5GUEXG      37.0  ...         4713.0    4185.947700\n",
              "1  TUNE8SFB6RJN2HSD      38.0  ...        10352.0    9271.490256\n",
              "2  BRAEAR7WZPQGPBZU       9.0  ...         7309.0    6785.701362\n",
              "3  WATDZ2ZQ8JPDHCTJ      50.0  ...        20814.0   13028.917824\n",
              "4  JWSEBUKYQPMBZ3RK       7.0  ...         9261.0     906.553935\n",
              "\n",
              "[5 rows x 13 columns]"
            ]
          },
          "metadata": {},
          "execution_count": 188
        }
      ]
    },
    {
      "cell_type": "code",
      "metadata": {
        "colab": {
          "base_uri": "https://localhost:8080/",
          "height": 582
        },
        "id": "itkl-y2IcstS",
        "outputId": "77027531-6aa5-4ffa-bf02-7cba80c22676"
      },
      "source": [
        "import seaborn as sns\n",
        "import matplotlib.pyplot as plt\n",
        "plt.figure(figsize=(10,8))\n",
        "sns.heatmap(train.corr(),annot=True)"
      ],
      "execution_count": 189,
      "outputs": [
        {
          "output_type": "execute_result",
          "data": {
            "text/plain": [
              "<matplotlib.axes._subplots.AxesSubplot at 0x7fd8d5b59c50>"
            ]
          },
          "metadata": {},
          "execution_count": 189
        },
        {
          "output_type": "display_data",
          "data": {
            "image/png": "[encoded data removed]",
            "text/plain": [
              "<Figure size 720x576 with 2 Axes>"
            ]
          },
          "metadata": {
            "needs_background": "light"
          }
        }
      ]
    },
    {
      "cell_type": "code",
      "metadata": {
        "colab": {
          "base_uri": "https://localhost:8080/",
          "height": 458
        },
        "id": "QHP8nuZge5jK",
        "outputId": "599d7cfc-0c3f-435e-e500-89009aae21b2"
      },
      "source": [
        "import numpy as np\n",
        "corr_matrix = train.corr().abs()\n",
        "corr_matrix"
      ],
      "execution_count": 190,
      "outputs": [
        {
          "output_type": "execute_result",
          "data": {
            "text/html": [
              "<div>\n",
              "<style scoped>\n",
              "    .dataframe tbody tr th:only-of-type {\n",
              "        vertical-align: middle;\n",
              "    }\n",
              "\n",
              "    .dataframe tbody tr th {\n",
              "        vertical-align: top;\n",
              "    }\n",
              "\n",
              "    .dataframe thead th {\n",
              "        text-align: right;\n",
              "    }\n",
              "</style>\n",
              "<table border=\"1\" class=\"dataframe\">\n",
              "  <thead>\n",
              "    <tr style=\"text-align: right;\">\n",
              "      <th></th>\n",
              "      <th>Stall_no</th>\n",
              "      <th>Market_Category</th>\n",
              "      <th>Loyalty_customer</th>\n",
              "      <th>Product_Category</th>\n",
              "      <th>Grade</th>\n",
              "      <th>Demand</th>\n",
              "      <th>Discount_avail</th>\n",
              "      <th>charges_1</th>\n",
              "      <th>charges_2 (%)</th>\n",
              "      <th>Minimum_price</th>\n",
              "      <th>Maximum_price</th>\n",
              "      <th>Selling_Price</th>\n",
              "    </tr>\n",
              "  </thead>\n",
              "  <tbody>\n",
              "    <tr>\n",
              "      <th>Stall_no</th>\n",
              "      <td>1.000000</td>\n",
              "      <td>0.005510</td>\n",
              "      <td>0.007874</td>\n",
              "      <td>0.012938</td>\n",
              "      <td>0.004814</td>\n",
              "      <td>0.003864</td>\n",
              "      <td>0.020568</td>\n",
              "      <td>0.010883</td>\n",
              "      <td>0.002274</td>\n",
              "      <td>0.000112</td>\n",
              "      <td>0.007195</td>\n",
              "      <td>0.010488</td>\n",
              "    </tr>\n",
              "    <tr>\n",
              "      <th>Market_Category</th>\n",
              "      <td>0.005510</td>\n",
              "      <td>1.000000</td>\n",
              "      <td>0.033993</td>\n",
              "      <td>0.001194</td>\n",
              "      <td>0.035270</td>\n",
              "      <td>0.019035</td>\n",
              "      <td>0.002265</td>\n",
              "      <td>0.018458</td>\n",
              "      <td>0.024758</td>\n",
              "      <td>0.196087</td>\n",
              "      <td>0.135300</td>\n",
              "      <td>0.140817</td>\n",
              "    </tr>\n",
              "    <tr>\n",
              "      <th>Loyalty_customer</th>\n",
              "      <td>0.007874</td>\n",
              "      <td>0.033993</td>\n",
              "      <td>1.000000</td>\n",
              "      <td>0.019560</td>\n",
              "      <td>0.025961</td>\n",
              "      <td>0.005584</td>\n",
              "      <td>0.021671</td>\n",
              "      <td>0.007357</td>\n",
              "      <td>0.012665</td>\n",
              "      <td>0.093103</td>\n",
              "      <td>0.118079</td>\n",
              "      <td>0.098101</td>\n",
              "    </tr>\n",
              "    <tr>\n",
              "      <th>Product_Category</th>\n",
              "      <td>0.012938</td>\n",
              "      <td>0.001194</td>\n",
              "      <td>0.019560</td>\n",
              "      <td>1.000000</td>\n",
              "      <td>0.010116</td>\n",
              "      <td>0.022469</td>\n",
              "      <td>0.027317</td>\n",
              "      <td>0.210196</td>\n",
              "      <td>0.476116</td>\n",
              "      <td>0.001523</td>\n",
              "      <td>0.012385</td>\n",
              "      <td>0.015742</td>\n",
              "    </tr>\n",
              "    <tr>\n",
              "      <th>Grade</th>\n",
              "      <td>0.004814</td>\n",
              "      <td>0.035270</td>\n",
              "      <td>0.025961</td>\n",
              "      <td>0.010116</td>\n",
              "      <td>1.000000</td>\n",
              "      <td>0.010351</td>\n",
              "      <td>0.026533</td>\n",
              "      <td>0.024284</td>\n",
              "      <td>0.015682</td>\n",
              "      <td>0.077558</td>\n",
              "      <td>0.166004</td>\n",
              "      <td>0.085304</td>\n",
              "    </tr>\n",
              "    <tr>\n",
              "      <th>Demand</th>\n",
              "      <td>0.003864</td>\n",
              "      <td>0.019035</td>\n",
              "      <td>0.005584</td>\n",
              "      <td>0.022469</td>\n",
              "      <td>0.010351</td>\n",
              "      <td>1.000000</td>\n",
              "      <td>0.008346</td>\n",
              "      <td>0.008754</td>\n",
              "      <td>0.017962</td>\n",
              "      <td>0.009128</td>\n",
              "      <td>0.003881</td>\n",
              "      <td>0.001620</td>\n",
              "    </tr>\n",
              "    <tr>\n",
              "      <th>Discount_avail</th>\n",
              "      <td>0.020568</td>\n",
              "      <td>0.002265</td>\n",
              "      <td>0.021671</td>\n",
              "      <td>0.027317</td>\n",
              "      <td>0.026533</td>\n",
              "      <td>0.008346</td>\n",
              "      <td>1.000000</td>\n",
              "      <td>0.004727</td>\n",
              "      <td>0.019177</td>\n",
              "      <td>0.010669</td>\n",
              "      <td>0.003494</td>\n",
              "      <td>0.519377</td>\n",
              "    </tr>\n",
              "    <tr>\n",
              "      <th>charges_1</th>\n",
              "      <td>0.010883</td>\n",
              "      <td>0.018458</td>\n",
              "      <td>0.007357</td>\n",
              "      <td>0.210196</td>\n",
              "      <td>0.024284</td>\n",
              "      <td>0.008754</td>\n",
              "      <td>0.004727</td>\n",
              "      <td>1.000000</td>\n",
              "      <td>0.271043</td>\n",
              "      <td>0.018015</td>\n",
              "      <td>0.011258</td>\n",
              "      <td>0.053202</td>\n",
              "    </tr>\n",
              "    <tr>\n",
              "      <th>charges_2 (%)</th>\n",
              "      <td>0.002274</td>\n",
              "      <td>0.024758</td>\n",
              "      <td>0.012665</td>\n",
              "      <td>0.476116</td>\n",
              "      <td>0.015682</td>\n",
              "      <td>0.017962</td>\n",
              "      <td>0.019177</td>\n",
              "      <td>0.271043</td>\n",
              "      <td>1.000000</td>\n",
              "      <td>0.005911</td>\n",
              "      <td>0.010813</td>\n",
              "      <td>0.009285</td>\n",
              "    </tr>\n",
              "    <tr>\n",
              "      <th>Minimum_price</th>\n",
              "      <td>0.000112</td>\n",
              "      <td>0.196087</td>\n",
              "      <td>0.093103</td>\n",
              "      <td>0.001523</td>\n",
              "      <td>0.077558</td>\n",
              "      <td>0.009128</td>\n",
              "      <td>0.010669</td>\n",
              "      <td>0.018015</td>\n",
              "      <td>0.005911</td>\n",
              "      <td>1.000000</td>\n",
              "      <td>0.707846</td>\n",
              "      <td>0.705838</td>\n",
              "    </tr>\n",
              "    <tr>\n",
              "      <th>Maximum_price</th>\n",
              "      <td>0.007195</td>\n",
              "      <td>0.135300</td>\n",
              "      <td>0.118079</td>\n",
              "      <td>0.012385</td>\n",
              "      <td>0.166004</td>\n",
              "      <td>0.003881</td>\n",
              "      <td>0.003494</td>\n",
              "      <td>0.011258</td>\n",
              "      <td>0.010813</td>\n",
              "      <td>0.707846</td>\n",
              "      <td>1.000000</td>\n",
              "      <td>0.773227</td>\n",
              "    </tr>\n",
              "    <tr>\n",
              "      <th>Selling_Price</th>\n",
              "      <td>0.010488</td>\n",
              "      <td>0.140817</td>\n",
              "      <td>0.098101</td>\n",
              "      <td>0.015742</td>\n",
              "      <td>0.085304</td>\n",
              "      <td>0.001620</td>\n",
              "      <td>0.519377</td>\n",
              "      <td>0.053202</td>\n",
              "      <td>0.009285</td>\n",
              "      <td>0.705838</td>\n",
              "      <td>0.773227</td>\n",
              "      <td>1.000000</td>\n",
              "    </tr>\n",
              "  </tbody>\n",
              "</table>\n",
              "</div>"
            ],
            "text/plain": [
              "                  Stall_no  Market_Category  ...  Maximum_price  Selling_Price\n",
              "Stall_no          1.000000         0.005510  ...       0.007195       0.010488\n",
              "Market_Category   0.005510         1.000000  ...       0.135300       0.140817\n",
              "Loyalty_customer  0.007874         0.033993  ...       0.118079       0.098101\n",
              "Product_Category  0.012938         0.001194  ...       0.012385       0.015742\n",
              "Grade             0.004814         0.035270  ...       0.166004       0.085304\n",
              "Demand            0.003864         0.019035  ...       0.003881       0.001620\n",
              "Discount_avail    0.020568         0.002265  ...       0.003494       0.519377\n",
              "charges_1         0.010883         0.018458  ...       0.011258       0.053202\n",
              "charges_2 (%)     0.002274         0.024758  ...       0.010813       0.009285\n",
              "Minimum_price     0.000112         0.196087  ...       0.707846       0.705838\n",
              "Maximum_price     0.007195         0.135300  ...       1.000000       0.773227\n",
              "Selling_Price     0.010488         0.140817  ...       0.773227       1.000000\n",
              "\n",
              "[12 rows x 12 columns]"
            ]
          },
          "metadata": {},
          "execution_count": 190
        }
      ]
    },
    {
      "cell_type": "code",
      "metadata": {
        "colab": {
          "base_uri": "https://localhost:8080/"
        },
        "id": "nPPqZcSCgaCf",
        "outputId": "8b5188b7-b66f-465b-9ad6-ccf2fa3251b8"
      },
      "source": [
        "upper_tri = corr_matrix.where(np.triu(np.ones(corr_matrix.shape),k=1).astype(np.bool))\n",
        "print(upper_tri)"
      ],
      "execution_count": 191,
      "outputs": [
        {
          "output_type": "stream",
          "name": "stdout",
          "text": [
            "                  Stall_no  Market_Category  ...  Maximum_price  Selling_Price\n",
            "Stall_no               NaN          0.00551  ...       0.007195       0.010488\n",
            "Market_Category        NaN              NaN  ...       0.135300       0.140817\n",
            "Loyalty_customer       NaN              NaN  ...       0.118079       0.098101\n",
            "Product_Category       NaN              NaN  ...       0.012385       0.015742\n",
            "Grade                  NaN              NaN  ...       0.166004       0.085304\n",
            "Demand                 NaN              NaN  ...       0.003881       0.001620\n",
            "Discount_avail         NaN              NaN  ...       0.003494       0.519377\n",
            "charges_1              NaN              NaN  ...       0.011258       0.053202\n",
            "charges_2 (%)          NaN              NaN  ...       0.010813       0.009285\n",
            "Minimum_price          NaN              NaN  ...       0.707846       0.705838\n",
            "Maximum_price          NaN              NaN  ...            NaN       0.773227\n",
            "Selling_Price          NaN              NaN  ...            NaN            NaN\n",
            "\n",
            "[12 rows x 12 columns]\n"
          ]
        }
      ]
    },
    {
      "cell_type": "markdown",
      "metadata": {
        "id": "peG2cJ2sisTh"
      },
      "source": [
        "dropping the column with high correlation"
      ]
    },
    {
      "cell_type": "code",
      "metadata": {
        "colab": {
          "base_uri": "https://localhost:8080/"
        },
        "id": "LX4nWjKdg1_k",
        "outputId": "933f9ace-f91a-4ea1-ff8f-aef77a9bd9e7"
      },
      "source": [
        "to_drop = [column for column in upper_tri.columns if any(upper_tri[column] > 0.90)]\n",
        "print(to_drop) #none of the features are highly correlated, so no dropping required"
      ],
      "execution_count": 192,
      "outputs": [
        {
          "output_type": "stream",
          "name": "stdout",
          "text": [
            "[]\n"
          ]
        }
      ]
    },
    {
      "cell_type": "code",
      "metadata": {
        "id": "rwI6FKj-i4jM"
      },
      "source": [
        "#train.drop(columns=to_drop, inplace=True)\n",
        "#train.head()"
      ],
      "execution_count": null,
      "outputs": []
    },
    {
      "cell_type": "markdown",
      "metadata": {
        "id": "jeI2lTSqmbwT"
      },
      "source": [
        "**Checking for missing data and replacing them with median**"
      ]
    },
    {
      "cell_type": "code",
      "metadata": {
        "id": "ON95YwA0nIRq"
      },
      "source": [
        "def fillmedian(train):\n",
        "    f = ['Stall_no','Discount_avail','charges_1','charges_2 (%)','Maximum_price','Minimum_price']\n",
        "    for i in f:\n",
        "        train[i] = train[i].fillna(train[i].median())\n",
        "    return train"
      ],
      "execution_count": 193,
      "outputs": []
    },
    {
      "cell_type": "code",
      "metadata": {
        "id": "y6qvTQoHv1DK"
      },
      "source": [
        "train=fillmedian(train)"
      ],
      "execution_count": 194,
      "outputs": []
    },
    {
      "cell_type": "code",
      "metadata": {
        "colab": {
          "base_uri": "https://localhost:8080/"
        },
        "id": "92gdj0FUns3z",
        "outputId": "eab6b90b-cd4a-490c-b0a9-814a36158e2e"
      },
      "source": [
        "train.info()"
      ],
      "execution_count": 195,
      "outputs": [
        {
          "output_type": "stream",
          "name": "stdout",
          "text": [
            "<class 'pandas.core.frame.DataFrame'>\n",
            "Int64Index: 6313 entries, 0 to 6367\n",
            "Data columns (total 13 columns):\n",
            " #   Column            Non-Null Count  Dtype  \n",
            "---  ------            --------------  -----  \n",
            " 0   Product_id        6313 non-null   object \n",
            " 1   Stall_no          6313 non-null   float64\n",
            " 2   Market_Category   6313 non-null   int64  \n",
            " 3   Loyalty_customer  6313 non-null   int64  \n",
            " 4   Product_Category  6313 non-null   int64  \n",
            " 5   Grade             6313 non-null   int64  \n",
            " 6   Demand            6313 non-null   int64  \n",
            " 7   Discount_avail    6313 non-null   float64\n",
            " 8   charges_1         6313 non-null   float64\n",
            " 9   charges_2 (%)     6313 non-null   float64\n",
            " 10  Minimum_price     6313 non-null   float64\n",
            " 11  Maximum_price     6313 non-null   float64\n",
            " 12  Selling_Price     6313 non-null   float64\n",
            "dtypes: float64(7), int64(5), object(1)\n",
            "memory usage: 690.5+ KB\n"
          ]
        }
      ]
    },
    {
      "cell_type": "markdown",
      "metadata": {
        "id": "KjVVV6tVofnk"
      },
      "source": [
        "**Training the model**"
      ]
    },
    {
      "cell_type": "code",
      "metadata": {
        "id": "6zTJszRaoI51"
      },
      "source": [
        "X=train.drop(columns=['Product_id','Selling_Price']).values\n",
        "y=train['Selling_Price'].values"
      ],
      "execution_count": 196,
      "outputs": []
    },
    {
      "cell_type": "code",
      "metadata": {
        "colab": {
          "base_uri": "https://localhost:8080/"
        },
        "id": "fxIq6a47pdhT",
        "outputId": "aa0a1b3e-94c3-4b66-cfa9-6ba1aeb15e1b"
      },
      "source": [
        "X.shape"
      ],
      "execution_count": 197,
      "outputs": [
        {
          "output_type": "execute_result",
          "data": {
            "text/plain": [
              "(6313, 11)"
            ]
          },
          "metadata": {},
          "execution_count": 197
        }
      ]
    },
    {
      "cell_type": "code",
      "metadata": {
        "colab": {
          "base_uri": "https://localhost:8080/"
        },
        "id": "wUbQeF3xpo5x",
        "outputId": "3bb14070-7194-419c-e3f0-919177b38a7d"
      },
      "source": [
        "from sklearn.model_selection import train_test_split\n",
        "X_train, X_test, y_train, y_test = train_test_split(X, y, test_size=0.2)\n",
        "X_train.shape"
      ],
      "execution_count": 198,
      "outputs": [
        {
          "output_type": "execute_result",
          "data": {
            "text/plain": [
              "(5050, 11)"
            ]
          },
          "metadata": {},
          "execution_count": 198
        }
      ]
    },
    {
      "cell_type": "code",
      "metadata": {
        "colab": {
          "base_uri": "https://localhost:8080/"
        },
        "id": "CI7xaXUA4CHr",
        "outputId": "f26024f3-7436-4f17-8666-1d646c1b7382"
      },
      "source": [
        "X_test.shape"
      ],
      "execution_count": 199,
      "outputs": [
        {
          "output_type": "execute_result",
          "data": {
            "text/plain": [
              "(1263, 11)"
            ]
          },
          "metadata": {},
          "execution_count": 199
        }
      ]
    },
    {
      "cell_type": "markdown",
      "metadata": {
        "id": "hNqPkxeLxQOG"
      },
      "source": [
        "**Random Forest**"
      ]
    },
    {
      "cell_type": "code",
      "metadata": {
        "colab": {
          "base_uri": "https://localhost:8080/"
        },
        "id": "ZLrK97eCxK4S",
        "outputId": "09e8ada7-e8ae-4e75-b0c1-38c0a9118698"
      },
      "source": [
        "from sklearn.ensemble import RandomForestRegressor\n",
        "rf=RandomForestRegressor(max_depth=19, random_state=0)\n",
        "rf.fit(X_train,y_train)"
      ],
      "execution_count": 200,
      "outputs": [
        {
          "output_type": "execute_result",
          "data": {
            "text/plain": [
              "RandomForestRegressor(bootstrap=True, ccp_alpha=0.0, criterion='mse',\n",
              "                      max_depth=19, max_features='auto', max_leaf_nodes=None,\n",
              "                      max_samples=None, min_impurity_decrease=0.0,\n",
              "                      min_impurity_split=None, min_samples_leaf=1,\n",
              "                      min_samples_split=2, min_weight_fraction_leaf=0.0,\n",
              "                      n_estimators=100, n_jobs=None, oob_score=False,\n",
              "                      random_state=0, verbose=0, warm_start=False)"
            ]
          },
          "metadata": {},
          "execution_count": 200
        }
      ]
    },
    {
      "cell_type": "code",
      "metadata": {
        "colab": {
          "base_uri": "https://localhost:8080/"
        },
        "id": "Zlq0mTyzyB6-",
        "outputId": "3c13d2e5-15b7-4c9c-e2ff-4fd7a25fecfe"
      },
      "source": [
        "from sklearn import metrics\n",
        "y_pred = rf.predict(X_test)\n",
        "print(metrics.mean_squared_error(y_test,y_pred))\n",
        "print(metrics.r2_score(y_test,y_pred))"
      ],
      "execution_count": 201,
      "outputs": [
        {
          "output_type": "stream",
          "name": "stdout",
          "text": [
            "85173.27283060903\n",
            "0.990713412566683\n"
          ]
        }
      ]
    },
    {
      "cell_type": "markdown",
      "metadata": {
        "id": "TuoskPHzAT_m"
      },
      "source": [
        "**Predicting the SP with Test Data**"
      ]
    },
    {
      "cell_type": "code",
      "metadata": {
        "id": "LkO_qphl7wKO"
      },
      "source": [
        "test = pd.read_csv(\"test.csv\")\n",
        "test.drop(columns=[\"Customer_name\",\"instock_date\"],axis=1,inplace=True)\n",
        "test = fillmedian(test)"
      ],
      "execution_count": 207,
      "outputs": []
    },
    {
      "cell_type": "code",
      "metadata": {
        "colab": {
          "base_uri": "https://localhost:8080/"
        },
        "id": "S7tecV34-h5a",
        "outputId": "9f18dfef-9076-4b45-f97f-1d4097c91b47"
      },
      "source": [
        "test.columns"
      ],
      "execution_count": 212,
      "outputs": [
        {
          "output_type": "execute_result",
          "data": {
            "text/plain": [
              "Index(['Product_id', 'Stall_no', 'Market_Category', 'Loyalty_customer',\n",
              "       'Product_Category', 'Grade', 'Demand', 'Discount_avail', 'charges_1',\n",
              "       'charges_2 (%)', 'Minimum_price', 'Maximum_price'],\n",
              "      dtype='object')"
            ]
          },
          "metadata": {},
          "execution_count": 212
        }
      ]
    },
    {
      "cell_type": "code",
      "metadata": {
        "id": "B3Y-Z8M6Acfd"
      },
      "source": [
        "test['Loyalty_customer']=le_lc.fit_transform(test['Loyalty_customer'])\n",
        "test['Product_Category']=le_pc.fit_transform(test['Product_Category'])"
      ],
      "execution_count": 223,
      "outputs": []
    },
    {
      "cell_type": "code",
      "metadata": {
        "id": "DOaxHbhb0m4V"
      },
      "source": [
        "yf = rf.predict(test.drop('Product_id',axis=1))"
      ],
      "execution_count": 218,
      "outputs": []
    },
    {
      "cell_type": "code",
      "metadata": {
        "colab": {
          "base_uri": "https://localhost:8080/"
        },
        "id": "Ptzv-8inCAjr",
        "outputId": "30d52a07-84c4-4daa-ffa9-4e81ae630947"
      },
      "source": [
        "yf.shape"
      ],
      "execution_count": 220,
      "outputs": [
        {
          "output_type": "execute_result",
          "data": {
            "text/plain": [
              "(3430,)"
            ]
          },
          "metadata": {},
          "execution_count": 220
        }
      ]
    },
    {
      "cell_type": "code",
      "metadata": {
        "id": "DGQmO5DXAtR-"
      },
      "source": [
        "final = pd.DataFrame((zip(test['Product_id'],yf)),columns=['Product_id','Selling_Price'])\n",
        "final.to_csv('submission1.csv',index= False)"
      ],
      "execution_count": 219,
      "outputs": []
    },
    {
      "cell_type": "markdown",
      "metadata": {
        "id": "Ty5p3dbkEvi-"
      },
      "source": [
        "**Linear Regression**"
      ]
    },
    {
      "cell_type": "code",
      "metadata": {
        "colab": {
          "base_uri": "https://localhost:8080/"
        },
        "id": "IKhiE4T2EyBh",
        "outputId": "0189aeb8-6e5e-4a2d-d806-7beec3d19d10"
      },
      "source": [
        "from sklearn.linear_model import LinearRegression\n",
        "rf=LinearRegression()\n",
        "rf.fit(X_train,y_train)\n",
        "y_pred = rf.predict(X_test)\n",
        "print(metrics.mean_squared_error(y_test,y_pred))\n",
        "print(metrics.r2_score(y_test,y_pred))"
      ],
      "execution_count": 222,
      "outputs": [
        {
          "output_type": "stream",
          "name": "stdout",
          "text": [
            "706280.5924863383\n",
            "0.9229930205027627\n"
          ]
        }
      ]
    },
    {
      "cell_type": "code",
      "metadata": {
        "id": "2Ojpc7j9G4o-"
      },
      "source": [
        "test = pd.read_csv(\"test.csv\")\n",
        "test.drop(columns=[\"Customer_name\",\"instock_date\"],axis=1,inplace=True)\n",
        "test = fillmedian(test)"
      ],
      "execution_count": 224,
      "outputs": []
    },
    {
      "cell_type": "code",
      "metadata": {
        "id": "qGhilavcHA6q"
      },
      "source": [
        "test['Loyalty_customer']=le_lc.fit_transform(test['Loyalty_customer'])\n",
        "test['Product_Category']=le_pc.fit_transform(test['Product_Category'])"
      ],
      "execution_count": 225,
      "outputs": []
    },
    {
      "cell_type": "code",
      "metadata": {
        "id": "_R_JcGmCHEE9"
      },
      "source": [
        "yf = rf.predict(test.drop('Product_id',axis=1))"
      ],
      "execution_count": 226,
      "outputs": []
    },
    {
      "cell_type": "code",
      "metadata": {
        "id": "T9o95rg_HG0A"
      },
      "source": [
        "final = pd.DataFrame((zip(test['Product_id'],yf)),columns=['Product_id','Selling_Price'])\n",
        "final.to_csv('submission2.csv',index= False)"
      ],
      "execution_count": 227,
      "outputs": []
    }
  ]
}